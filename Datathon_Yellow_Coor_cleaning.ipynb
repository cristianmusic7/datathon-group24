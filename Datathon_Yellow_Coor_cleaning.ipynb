{
 "cells": [
  {
   "cell_type": "markdown",
   "metadata": {},
   "source": [
    "## Datathon Grupo 24\n",
    "\n",
    "\n"
   ]
  },
  {
   "cell_type": "code",
   "execution_count": 1,
   "metadata": {},
   "outputs": [],
   "source": [
    "# Load packages\n",
    "import os\n",
    "import pandas as pd\n",
    "import numpy as np\n",
    "# This line is needed to display plots inline in Jupyter Notebook\n",
    "%matplotlib inline\n",
    "\n",
    "# Required for basic python plotting functionality\n",
    "import matplotlib.pyplot as plt\n",
    "\n",
    "# Required for formatting dates later in the case\n",
    "import datetime\n",
    "import matplotlib.dates as mdates\n",
    "\n",
    "# Required to display image inline\n",
    "from IPython.display import Image\n",
    "\n",
    "# Advanced plotting functionality with seaborn\n",
    "import seaborn as sns\n",
    "sns.set(style=\"whitegrid\") # can set style depending on how you'd like it to look"
   ]
  },
  {
   "cell_type": "markdown",
   "metadata": {},
   "source": [
    "## Yellow_trips \n",
    "Trip data (pickup/dropoff times, pickup/dropoff locations) from NYC yellow medallion taxis. Note: in order to keep the dataset size manageable, the provided data is a 5% unbiased sample of the raw data. If using trip count metrics, remember to multiply quantities by 20 to approximate the actual data. ~8 million rows & 9 columns. Size: ~260MB zipped, ~800MB unzipped. \n"
   ]
  },
  {
   "cell_type": "code",
   "execution_count": 2,
   "metadata": {},
   "outputs": [
    {
     "data": {
      "text/html": [
       "<div>\n",
       "<style scoped>\n",
       "    .dataframe tbody tr th:only-of-type {\n",
       "        vertical-align: middle;\n",
       "    }\n",
       "\n",
       "    .dataframe tbody tr th {\n",
       "        vertical-align: top;\n",
       "    }\n",
       "\n",
       "    .dataframe thead th {\n",
       "        text-align: right;\n",
       "    }\n",
       "</style>\n",
       "<table border=\"1\" class=\"dataframe\">\n",
       "  <thead>\n",
       "    <tr style=\"text-align: right;\">\n",
       "      <th></th>\n",
       "      <th>pickup_datetime</th>\n",
       "      <th>dropoff_datetime</th>\n",
       "      <th>pickup_longitude</th>\n",
       "      <th>pickup_latitude</th>\n",
       "      <th>dropoff_longitude</th>\n",
       "      <th>dropoff_latitude</th>\n",
       "      <th>passenger_count</th>\n",
       "      <th>trip_distance</th>\n",
       "      <th>total_amount</th>\n",
       "    </tr>\n",
       "  </thead>\n",
       "  <tbody>\n",
       "    <tr>\n",
       "      <th>0</th>\n",
       "      <td>2014-04-03 18:28:10</td>\n",
       "      <td>2014-04-03 18:54:32</td>\n",
       "      <td>-74.006033</td>\n",
       "      <td>40.706284</td>\n",
       "      <td>-73.918837</td>\n",
       "      <td>40.744946</td>\n",
       "      <td>1</td>\n",
       "      <td>8.70</td>\n",
       "      <td>34.8</td>\n",
       "    </tr>\n",
       "    <tr>\n",
       "      <th>1</th>\n",
       "      <td>2014-04-16 15:42:00</td>\n",
       "      <td>2014-04-16 16:07:00</td>\n",
       "      <td>-73.979558</td>\n",
       "      <td>40.749357</td>\n",
       "      <td>0.000000</td>\n",
       "      <td>0.000000</td>\n",
       "      <td>1</td>\n",
       "      <td>9.37</td>\n",
       "      <td>30.0</td>\n",
       "    </tr>\n",
       "    <tr>\n",
       "      <th>2</th>\n",
       "      <td>2014-04-13 18:04:00</td>\n",
       "      <td>2014-04-13 18:07:00</td>\n",
       "      <td>-73.956453</td>\n",
       "      <td>40.775307</td>\n",
       "      <td>-73.954792</td>\n",
       "      <td>40.784992</td>\n",
       "      <td>1</td>\n",
       "      <td>0.89</td>\n",
       "      <td>6.5</td>\n",
       "    </tr>\n",
       "    <tr>\n",
       "      <th>3</th>\n",
       "      <td>2014-05-21 19:33:00</td>\n",
       "      <td>2014-05-21 19:45:00</td>\n",
       "      <td>-73.987212</td>\n",
       "      <td>40.757850</td>\n",
       "      <td>-73.960198</td>\n",
       "      <td>40.775472</td>\n",
       "      <td>1</td>\n",
       "      <td>2.40</td>\n",
       "      <td>12.5</td>\n",
       "    </tr>\n",
       "    <tr>\n",
       "      <th>4</th>\n",
       "      <td>2014-05-30 16:28:00</td>\n",
       "      <td>2014-05-30 16:51:00</td>\n",
       "      <td>-73.974292</td>\n",
       "      <td>40.755397</td>\n",
       "      <td>-74.011867</td>\n",
       "      <td>40.704222</td>\n",
       "      <td>3</td>\n",
       "      <td>5.58</td>\n",
       "      <td>24.5</td>\n",
       "    </tr>\n",
       "  </tbody>\n",
       "</table>\n",
       "</div>"
      ],
      "text/plain": [
       "       pickup_datetime     dropoff_datetime  pickup_longitude  \\\n",
       "0  2014-04-03 18:28:10  2014-04-03 18:54:32        -74.006033   \n",
       "1  2014-04-16 15:42:00  2014-04-16 16:07:00        -73.979558   \n",
       "2  2014-04-13 18:04:00  2014-04-13 18:07:00        -73.956453   \n",
       "3  2014-05-21 19:33:00  2014-05-21 19:45:00        -73.987212   \n",
       "4  2014-05-30 16:28:00  2014-05-30 16:51:00        -73.974292   \n",
       "\n",
       "   pickup_latitude  dropoff_longitude  dropoff_latitude  passenger_count  \\\n",
       "0        40.706284         -73.918837         40.744946                1   \n",
       "1        40.749357           0.000000          0.000000                1   \n",
       "2        40.775307         -73.954792         40.784992                1   \n",
       "3        40.757850         -73.960198         40.775472                1   \n",
       "4        40.755397         -74.011867         40.704222                3   \n",
       "\n",
       "   trip_distance  total_amount  \n",
       "0           8.70          34.8  \n",
       "1           9.37          30.0  \n",
       "2           0.89           6.5  \n",
       "3           2.40          12.5  \n",
       "4           5.58          24.5  "
      ]
     },
     "execution_count": 2,
     "metadata": {},
     "output_type": "execute_result"
    }
   ],
   "source": [
    "#GET DATA\n",
    "YT = pd.read_csv('Dataset\\\\yellow_trips.csv.gz')\n",
    "YT.head()"
   ]
  },
  {
   "cell_type": "markdown",
   "metadata": {},
   "source": [
    "String to datetime **pickup_datetime** y **dropoff_datetime**"
   ]
  },
  {
   "cell_type": "code",
   "execution_count": 3,
   "metadata": {},
   "outputs": [],
   "source": [
    "# string to datetime\n",
    "YT['pickup_datetime'] = YT['pickup_datetime'].apply(lambda x: datetime.datetime.strptime(str(x), \"%Y-%m-%d %H:%M:%S\"))\n",
    "YT['dropoff_datetime'] = YT['dropoff_datetime'].apply(lambda x: datetime.datetime.strptime(str(x), \"%Y-%m-%d %H:%M:%S\"))"
   ]
  },
  {
   "cell_type": "markdown",
   "metadata": {},
   "source": [
    "### Data Cleaning\n",
    "\n",
    "##### Null validation"
   ]
  },
  {
   "cell_type": "code",
   "execution_count": 4,
   "metadata": {},
   "outputs": [
    {
     "data": {
      "text/plain": [
       "pickup_datetime      0\n",
       "dropoff_datetime     0\n",
       "pickup_longitude     0\n",
       "pickup_latitude      0\n",
       "dropoff_longitude    0\n",
       "dropoff_latitude     0\n",
       "passenger_count      0\n",
       "trip_distance        0\n",
       "total_amount         0\n",
       "dtype: int64"
      ]
     },
     "execution_count": 4,
     "metadata": {},
     "output_type": "execute_result"
    }
   ],
   "source": [
    "YT.isnull().sum()"
   ]
  },
  {
   "cell_type": "markdown",
   "metadata": {},
   "source": [
    "##### Coord. **pickup_longitude, pickup_latitude, dropoff_longitude, dropoff_latitude**\n",
    "\n",
    "##### Coord. outside NYC"
   ]
  },
  {
   "cell_type": "code",
   "execution_count": 5,
   "metadata": {},
   "outputs": [],
   "source": [
    "#Define coordinates with geographic data\n",
    "geo = pd.read_csv('Dataset\\\\geographic.csv')\n",
    "LatMax =geo[geo > 0].max().max()\n",
    "LatMin =geo[geo > 0].min().min()\n",
    "LonMax =geo[geo < 0].max().max()\n",
    "LonMin =geo[geo < 0].min().min()\n",
    "\n",
    "YT['pickup_longitude'] = YT['pickup_longitude'].apply(lambda x: np.nan if x >= LonMax or x <= LonMin  else x)\n",
    "YT['dropoff_longitude'] = YT['dropoff_longitude'].apply(lambda x: np.nan if x >= LonMax or x <= LonMin  else x)\n",
    "YT['pickup_latitude'] = YT['pickup_latitude'].apply(lambda x: np.nan if x >= LatMax or x <= LatMin else x)\n",
    "YT['dropoff_latitude'] = YT['dropoff_latitude'].apply(lambda x: np.nan if x >= LatMax or x <= LatMin else x)"
   ]
  },
  {
   "cell_type": "code",
   "execution_count": 6,
   "metadata": {},
   "outputs": [],
   "source": [
    "YTC= YT.dropna()"
   ]
  },
  {
   "cell_type": "code",
   "execution_count": 7,
   "metadata": {},
   "outputs": [
    {
     "data": {
      "text/html": [
       "<div>\n",
       "<style scoped>\n",
       "    .dataframe tbody tr th:only-of-type {\n",
       "        vertical-align: middle;\n",
       "    }\n",
       "\n",
       "    .dataframe tbody tr th {\n",
       "        vertical-align: top;\n",
       "    }\n",
       "\n",
       "    .dataframe thead th {\n",
       "        text-align: right;\n",
       "    }\n",
       "</style>\n",
       "<table border=\"1\" class=\"dataframe\">\n",
       "  <thead>\n",
       "    <tr style=\"text-align: right;\">\n",
       "      <th></th>\n",
       "      <th>pickup_datetime</th>\n",
       "      <th>dropoff_datetime</th>\n",
       "      <th>pickup_longitude</th>\n",
       "      <th>pickup_latitude</th>\n",
       "      <th>dropoff_longitude</th>\n",
       "      <th>dropoff_latitude</th>\n",
       "      <th>passenger_count</th>\n",
       "      <th>trip_distance</th>\n",
       "      <th>total_amount</th>\n",
       "    </tr>\n",
       "  </thead>\n",
       "  <tbody>\n",
       "    <tr>\n",
       "      <th>0</th>\n",
       "      <td>2014-04-03 18:28:10</td>\n",
       "      <td>2014-04-03 18:54:32</td>\n",
       "      <td>-74.006033</td>\n",
       "      <td>40.706284</td>\n",
       "      <td>-73.918837</td>\n",
       "      <td>40.744946</td>\n",
       "      <td>1</td>\n",
       "      <td>8.70</td>\n",
       "      <td>34.80</td>\n",
       "    </tr>\n",
       "    <tr>\n",
       "      <th>2</th>\n",
       "      <td>2014-04-13 18:04:00</td>\n",
       "      <td>2014-04-13 18:07:00</td>\n",
       "      <td>-73.956453</td>\n",
       "      <td>40.775307</td>\n",
       "      <td>-73.954792</td>\n",
       "      <td>40.784992</td>\n",
       "      <td>1</td>\n",
       "      <td>0.89</td>\n",
       "      <td>6.50</td>\n",
       "    </tr>\n",
       "    <tr>\n",
       "      <th>3</th>\n",
       "      <td>2014-05-21 19:33:00</td>\n",
       "      <td>2014-05-21 19:45:00</td>\n",
       "      <td>-73.987212</td>\n",
       "      <td>40.757850</td>\n",
       "      <td>-73.960198</td>\n",
       "      <td>40.775472</td>\n",
       "      <td>1</td>\n",
       "      <td>2.40</td>\n",
       "      <td>12.50</td>\n",
       "    </tr>\n",
       "    <tr>\n",
       "      <th>4</th>\n",
       "      <td>2014-05-30 16:28:00</td>\n",
       "      <td>2014-05-30 16:51:00</td>\n",
       "      <td>-73.974292</td>\n",
       "      <td>40.755397</td>\n",
       "      <td>-74.011867</td>\n",
       "      <td>40.704222</td>\n",
       "      <td>3</td>\n",
       "      <td>5.58</td>\n",
       "      <td>24.50</td>\n",
       "    </tr>\n",
       "    <tr>\n",
       "      <th>5</th>\n",
       "      <td>2014-05-11 13:09:24</td>\n",
       "      <td>2014-05-11 13:19:18</td>\n",
       "      <td>-73.978131</td>\n",
       "      <td>40.748238</td>\n",
       "      <td>-73.984475</td>\n",
       "      <td>40.749268</td>\n",
       "      <td>1</td>\n",
       "      <td>1.30</td>\n",
       "      <td>11.05</td>\n",
       "    </tr>\n",
       "  </tbody>\n",
       "</table>\n",
       "</div>"
      ],
      "text/plain": [
       "      pickup_datetime    dropoff_datetime  pickup_longitude  pickup_latitude  \\\n",
       "0 2014-04-03 18:28:10 2014-04-03 18:54:32        -74.006033        40.706284   \n",
       "2 2014-04-13 18:04:00 2014-04-13 18:07:00        -73.956453        40.775307   \n",
       "3 2014-05-21 19:33:00 2014-05-21 19:45:00        -73.987212        40.757850   \n",
       "4 2014-05-30 16:28:00 2014-05-30 16:51:00        -73.974292        40.755397   \n",
       "5 2014-05-11 13:09:24 2014-05-11 13:19:18        -73.978131        40.748238   \n",
       "\n",
       "   dropoff_longitude  dropoff_latitude  passenger_count  trip_distance  \\\n",
       "0         -73.918837         40.744946                1           8.70   \n",
       "2         -73.954792         40.784992                1           0.89   \n",
       "3         -73.960198         40.775472                1           2.40   \n",
       "4         -74.011867         40.704222                3           5.58   \n",
       "5         -73.984475         40.749268                1           1.30   \n",
       "\n",
       "   total_amount  \n",
       "0         34.80  \n",
       "2          6.50  \n",
       "3         12.50  \n",
       "4         24.50  \n",
       "5         11.05  "
      ]
     },
     "execution_count": 7,
     "metadata": {},
     "output_type": "execute_result"
    }
   ],
   "source": [
    "YTC.head()"
   ]
  },
  {
   "cell_type": "markdown",
   "metadata": {},
   "source": [
    " \n",
    "* **trip_distance**\n",
    "\n",
    "   Distancias fuera de rango - null"
   ]
  },
  {
   "cell_type": "code",
   "execution_count": 8,
   "metadata": {},
   "outputs": [
    {
     "name": "stderr",
     "output_type": "stream",
     "text": [
      "C:\\ProgramData\\Anaconda3\\lib\\site-packages\\ipykernel_launcher.py:1: SettingWithCopyWarning: \n",
      "A value is trying to be set on a copy of a slice from a DataFrame.\n",
      "Try using .loc[row_indexer,col_indexer] = value instead\n",
      "\n",
      "See the caveats in the documentation: http://pandas.pydata.org/pandas-docs/stable/indexing.html#indexing-view-versus-copy\n",
      "  \"\"\"Entry point for launching an IPython kernel.\n"
     ]
    }
   ],
   "source": [
    "YTC['total_amount'] = YTC.apply(lambda row: row['total_amount'] if row['total_amount'] > 0 else np.nan, axis=1)"
   ]
  },
  {
   "cell_type": "code",
   "execution_count": 9,
   "metadata": {},
   "outputs": [
    {
     "name": "stderr",
     "output_type": "stream",
     "text": [
      "C:\\ProgramData\\Anaconda3\\lib\\site-packages\\ipykernel_launcher.py:1: SettingWithCopyWarning: \n",
      "A value is trying to be set on a copy of a slice from a DataFrame.\n",
      "Try using .loc[row_indexer,col_indexer] = value instead\n",
      "\n",
      "See the caveats in the documentation: http://pandas.pydata.org/pandas-docs/stable/indexing.html#indexing-view-versus-copy\n",
      "  \"\"\"Entry point for launching an IPython kernel.\n"
     ]
    }
   ],
   "source": [
    "YTC['trip_distance'] = YTC.apply(lambda row: row['trip_distance'] if (row['trip_distance'] > 0 and row['total_amount'] > 0) else np.nan, axis=1)"
   ]
  },
  {
   "cell_type": "code",
   "execution_count": 10,
   "metadata": {},
   "outputs": [
    {
     "name": "stderr",
     "output_type": "stream",
     "text": [
      "C:\\ProgramData\\Anaconda3\\lib\\site-packages\\ipykernel_launcher.py:1: SettingWithCopyWarning: \n",
      "A value is trying to be set on a copy of a slice from a DataFrame.\n",
      "Try using .loc[row_indexer,col_indexer] = value instead\n",
      "\n",
      "See the caveats in the documentation: http://pandas.pydata.org/pandas-docs/stable/indexing.html#indexing-view-versus-copy\n",
      "  \"\"\"Entry point for launching an IPython kernel.\n"
     ]
    }
   ],
   "source": [
    "YTC['passenger_count'] = YTC.apply(lambda row: row['passenger_count'] if row['passenger_count'] > 0 else np.nan, axis=1)"
   ]
  }
 ],
 "metadata": {
  "kernelspec": {
   "display_name": "Python 3",
   "language": "python",
   "name": "python3"
  },
  "language_info": {
   "codemirror_mode": {
    "name": "ipython",
    "version": 3
   },
   "file_extension": ".py",
   "mimetype": "text/x-python",
   "name": "python",
   "nbconvert_exporter": "python",
   "pygments_lexer": "ipython3",
   "version": "3.7.3"
  }
 },
 "nbformat": 4,
 "nbformat_minor": 2
}
